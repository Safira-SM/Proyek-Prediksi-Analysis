{
  "nbformat": 4,
  "nbformat_minor": 0,
  "metadata": {
    "colab": {
      "provenance": []
    },
    "kernelspec": {
      "name": "python3",
      "display_name": "Python 3"
    },
    "language_info": {
      "name": "python"
    }
  },
  "cells": [
    {
      "cell_type": "markdown",
      "source": [
        "# Submission 1\n"
      ],
      "metadata": {
        "id": "SpbIh1hJtj9K"
      }
    },
    {
      "cell_type": "markdown",
      "source": [
        "Melakukan import library yang digunakan dalam proyek"
      ],
      "metadata": {
        "id": "rxfG2F29rga7"
      }
    },
    {
      "cell_type": "code",
      "source": [
        "from sklearn.tree import DecisionTreeRegressor\n",
        "from sklearn.linear_model import LinearRegression\n",
        "from sklearn.ensemble import RandomForestRegressor\n",
        "from sklearn.metrics import mean_squared_error, r2_score\n",
        "from sklearn.model_selection import train_test_split\n",
        "from scipy.stats import ttest_ind\n",
        "import numpy as np\n",
        "import matplotlib.pyplot as plt\n",
        "import seaborn as sns\n",
        "import pandas as pd"
      ],
      "metadata": {
        "id": "_0pkfFKYej4q"
      },
      "execution_count": 18,
      "outputs": []
    },
    {
      "cell_type": "code",
      "source": [
        "from google.colab import files\n",
        "uploaded = files.upload()"
      ],
      "metadata": {
        "colab": {
          "base_uri": "https://localhost:8080/",
          "height": 73
        },
        "id": "-qrZaxAHfVZE",
        "outputId": "2e9052b9-8708-4684-d4b1-3ec81628e9f6"
      },
      "execution_count": 19,
      "outputs": [
        {
          "output_type": "display_data",
          "data": {
            "text/plain": [
              "<IPython.core.display.HTML object>"
            ],
            "text/html": [
              "\n",
              "     <input type=\"file\" id=\"files-f3bdc766-149d-476b-8208-2ef2842c0c92\" name=\"files[]\" multiple disabled\n",
              "        style=\"border:none\" />\n",
              "     <output id=\"result-f3bdc766-149d-476b-8208-2ef2842c0c92\">\n",
              "      Upload widget is only available when the cell has been executed in the\n",
              "      current browser session. Please rerun this cell to enable.\n",
              "      </output>\n",
              "      <script>// Copyright 2017 Google LLC\n",
              "//\n",
              "// Licensed under the Apache License, Version 2.0 (the \"License\");\n",
              "// you may not use this file except in compliance with the License.\n",
              "// You may obtain a copy of the License at\n",
              "//\n",
              "//      http://www.apache.org/licenses/LICENSE-2.0\n",
              "//\n",
              "// Unless required by applicable law or agreed to in writing, software\n",
              "// distributed under the License is distributed on an \"AS IS\" BASIS,\n",
              "// WITHOUT WARRANTIES OR CONDITIONS OF ANY KIND, either express or implied.\n",
              "// See the License for the specific language governing permissions and\n",
              "// limitations under the License.\n",
              "\n",
              "/**\n",
              " * @fileoverview Helpers for google.colab Python module.\n",
              " */\n",
              "(function(scope) {\n",
              "function span(text, styleAttributes = {}) {\n",
              "  const element = document.createElement('span');\n",
              "  element.textContent = text;\n",
              "  for (const key of Object.keys(styleAttributes)) {\n",
              "    element.style[key] = styleAttributes[key];\n",
              "  }\n",
              "  return element;\n",
              "}\n",
              "\n",
              "// Max number of bytes which will be uploaded at a time.\n",
              "const MAX_PAYLOAD_SIZE = 100 * 1024;\n",
              "\n",
              "function _uploadFiles(inputId, outputId) {\n",
              "  const steps = uploadFilesStep(inputId, outputId);\n",
              "  const outputElement = document.getElementById(outputId);\n",
              "  // Cache steps on the outputElement to make it available for the next call\n",
              "  // to uploadFilesContinue from Python.\n",
              "  outputElement.steps = steps;\n",
              "\n",
              "  return _uploadFilesContinue(outputId);\n",
              "}\n",
              "\n",
              "// This is roughly an async generator (not supported in the browser yet),\n",
              "// where there are multiple asynchronous steps and the Python side is going\n",
              "// to poll for completion of each step.\n",
              "// This uses a Promise to block the python side on completion of each step,\n",
              "// then passes the result of the previous step as the input to the next step.\n",
              "function _uploadFilesContinue(outputId) {\n",
              "  const outputElement = document.getElementById(outputId);\n",
              "  const steps = outputElement.steps;\n",
              "\n",
              "  const next = steps.next(outputElement.lastPromiseValue);\n",
              "  return Promise.resolve(next.value.promise).then((value) => {\n",
              "    // Cache the last promise value to make it available to the next\n",
              "    // step of the generator.\n",
              "    outputElement.lastPromiseValue = value;\n",
              "    return next.value.response;\n",
              "  });\n",
              "}\n",
              "\n",
              "/**\n",
              " * Generator function which is called between each async step of the upload\n",
              " * process.\n",
              " * @param {string} inputId Element ID of the input file picker element.\n",
              " * @param {string} outputId Element ID of the output display.\n",
              " * @return {!Iterable<!Object>} Iterable of next steps.\n",
              " */\n",
              "function* uploadFilesStep(inputId, outputId) {\n",
              "  const inputElement = document.getElementById(inputId);\n",
              "  inputElement.disabled = false;\n",
              "\n",
              "  const outputElement = document.getElementById(outputId);\n",
              "  outputElement.innerHTML = '';\n",
              "\n",
              "  const pickedPromise = new Promise((resolve) => {\n",
              "    inputElement.addEventListener('change', (e) => {\n",
              "      resolve(e.target.files);\n",
              "    });\n",
              "  });\n",
              "\n",
              "  const cancel = document.createElement('button');\n",
              "  inputElement.parentElement.appendChild(cancel);\n",
              "  cancel.textContent = 'Cancel upload';\n",
              "  const cancelPromise = new Promise((resolve) => {\n",
              "    cancel.onclick = () => {\n",
              "      resolve(null);\n",
              "    };\n",
              "  });\n",
              "\n",
              "  // Wait for the user to pick the files.\n",
              "  const files = yield {\n",
              "    promise: Promise.race([pickedPromise, cancelPromise]),\n",
              "    response: {\n",
              "      action: 'starting',\n",
              "    }\n",
              "  };\n",
              "\n",
              "  cancel.remove();\n",
              "\n",
              "  // Disable the input element since further picks are not allowed.\n",
              "  inputElement.disabled = true;\n",
              "\n",
              "  if (!files) {\n",
              "    return {\n",
              "      response: {\n",
              "        action: 'complete',\n",
              "      }\n",
              "    };\n",
              "  }\n",
              "\n",
              "  for (const file of files) {\n",
              "    const li = document.createElement('li');\n",
              "    li.append(span(file.name, {fontWeight: 'bold'}));\n",
              "    li.append(span(\n",
              "        `(${file.type || 'n/a'}) - ${file.size} bytes, ` +\n",
              "        `last modified: ${\n",
              "            file.lastModifiedDate ? file.lastModifiedDate.toLocaleDateString() :\n",
              "                                    'n/a'} - `));\n",
              "    const percent = span('0% done');\n",
              "    li.appendChild(percent);\n",
              "\n",
              "    outputElement.appendChild(li);\n",
              "\n",
              "    const fileDataPromise = new Promise((resolve) => {\n",
              "      const reader = new FileReader();\n",
              "      reader.onload = (e) => {\n",
              "        resolve(e.target.result);\n",
              "      };\n",
              "      reader.readAsArrayBuffer(file);\n",
              "    });\n",
              "    // Wait for the data to be ready.\n",
              "    let fileData = yield {\n",
              "      promise: fileDataPromise,\n",
              "      response: {\n",
              "        action: 'continue',\n",
              "      }\n",
              "    };\n",
              "\n",
              "    // Use a chunked sending to avoid message size limits. See b/62115660.\n",
              "    let position = 0;\n",
              "    do {\n",
              "      const length = Math.min(fileData.byteLength - position, MAX_PAYLOAD_SIZE);\n",
              "      const chunk = new Uint8Array(fileData, position, length);\n",
              "      position += length;\n",
              "\n",
              "      const base64 = btoa(String.fromCharCode.apply(null, chunk));\n",
              "      yield {\n",
              "        response: {\n",
              "          action: 'append',\n",
              "          file: file.name,\n",
              "          data: base64,\n",
              "        },\n",
              "      };\n",
              "\n",
              "      let percentDone = fileData.byteLength === 0 ?\n",
              "          100 :\n",
              "          Math.round((position / fileData.byteLength) * 100);\n",
              "      percent.textContent = `${percentDone}% done`;\n",
              "\n",
              "    } while (position < fileData.byteLength);\n",
              "  }\n",
              "\n",
              "  // All done.\n",
              "  yield {\n",
              "    response: {\n",
              "      action: 'complete',\n",
              "    }\n",
              "  };\n",
              "}\n",
              "\n",
              "scope.google = scope.google || {};\n",
              "scope.google.colab = scope.google.colab || {};\n",
              "scope.google.colab._files = {\n",
              "  _uploadFiles,\n",
              "  _uploadFilesContinue,\n",
              "};\n",
              "})(self);\n",
              "</script> "
            ]
          },
          "metadata": {}
        },
        {
          "output_type": "stream",
          "name": "stdout",
          "text": [
            "Saving Melbourne Housing Snapshot.csv to Melbourne Housing Snapshot (1).csv\n"
          ]
        }
      ]
    },
    {
      "cell_type": "markdown",
      "source": [
        "Tahap selanjutnya,\n",
        "membaca data dan menampilkan sampel minimal 5 data serta mengetahui type dari masing-masing data dan jumlah missing value"
      ],
      "metadata": {
        "id": "7GK-GrAhr5nF"
      }
    },
    {
      "cell_type": "code",
      "source": [
        "df = pd.read_csv(\"Melbourne Housing Snapshot.csv\")\n",
        "\n",
        "print(\"\\nContoh Data : \")\n",
        "print(df.head())\n",
        "\n",
        "print(\"\\nInfo Data :\")\n",
        "print(df.info())\n",
        "\n",
        "print(\"\\nJumlah Baris & Kolom :\")\n",
        "print(df.shape)\n",
        "\n",
        "print(\"\\nDeskripsi Data : \")\n",
        "print(df.describe())\n",
        "\n",
        "print(\"\\nTipe Data : \")\n",
        "print(df.dtypes)\n",
        "\n",
        "print(\"\\nMissing Value : \")\n",
        "print(df.isnull().sum())"
      ],
      "metadata": {
        "colab": {
          "base_uri": "https://localhost:8080/"
        },
        "id": "HmooztFReWLC",
        "outputId": "906a8841-c088-4b94-a190-6a8a33c45daf"
      },
      "execution_count": 35,
      "outputs": [
        {
          "output_type": "stream",
          "name": "stdout",
          "text": [
            "\n",
            "Contoh Data : \n",
            "       Suburb           Address  Rooms Type      Price Method SellerG  \\\n",
            "0  Abbotsford      85 Turner St      2    h  1480000.0      S  Biggin   \n",
            "1  Abbotsford   25 Bloomburg St      2    h  1035000.0      S  Biggin   \n",
            "2  Abbotsford      5 Charles St      3    h  1465000.0     SP  Biggin   \n",
            "3  Abbotsford  40 Federation La      3    h   850000.0     PI  Biggin   \n",
            "4  Abbotsford       55a Park St      4    h  1600000.0     VB  Nelson   \n",
            "\n",
            "        Date  Distance  Postcode  ...  Bathroom  Car  Landsize  BuildingArea  \\\n",
            "0  3/12/2016       2.5    3067.0  ...       1.0  1.0     202.0           NaN   \n",
            "1  4/02/2016       2.5    3067.0  ...       1.0  0.0     156.0          79.0   \n",
            "2  4/03/2017       2.5    3067.0  ...       2.0  0.0     134.0         150.0   \n",
            "3  4/03/2017       2.5    3067.0  ...       2.0  1.0      94.0           NaN   \n",
            "4  4/06/2016       2.5    3067.0  ...       1.0  2.0     120.0         142.0   \n",
            "\n",
            "   YearBuilt  CouncilArea Lattitude  Longtitude             Regionname  \\\n",
            "0        NaN        Yarra  -37.7996    144.9984  Northern Metropolitan   \n",
            "1     1900.0        Yarra  -37.8079    144.9934  Northern Metropolitan   \n",
            "2     1900.0        Yarra  -37.8093    144.9944  Northern Metropolitan   \n",
            "3        NaN        Yarra  -37.7969    144.9969  Northern Metropolitan   \n",
            "4     2014.0        Yarra  -37.8072    144.9941  Northern Metropolitan   \n",
            "\n",
            "  Propertycount  \n",
            "0        4019.0  \n",
            "1        4019.0  \n",
            "2        4019.0  \n",
            "3        4019.0  \n",
            "4        4019.0  \n",
            "\n",
            "[5 rows x 21 columns]\n",
            "\n",
            "Info Data :\n",
            "<class 'pandas.core.frame.DataFrame'>\n",
            "RangeIndex: 13580 entries, 0 to 13579\n",
            "Data columns (total 21 columns):\n",
            " #   Column         Non-Null Count  Dtype  \n",
            "---  ------         --------------  -----  \n",
            " 0   Suburb         13580 non-null  object \n",
            " 1   Address        13580 non-null  object \n",
            " 2   Rooms          13580 non-null  int64  \n",
            " 3   Type           13580 non-null  object \n",
            " 4   Price          13580 non-null  float64\n",
            " 5   Method         13580 non-null  object \n",
            " 6   SellerG        13580 non-null  object \n",
            " 7   Date           13580 non-null  object \n",
            " 8   Distance       13580 non-null  float64\n",
            " 9   Postcode       13580 non-null  float64\n",
            " 10  Bedroom2       13580 non-null  float64\n",
            " 11  Bathroom       13580 non-null  float64\n",
            " 12  Car            13518 non-null  float64\n",
            " 13  Landsize       13580 non-null  float64\n",
            " 14  BuildingArea   7130 non-null   float64\n",
            " 15  YearBuilt      8205 non-null   float64\n",
            " 16  CouncilArea    12211 non-null  object \n",
            " 17  Lattitude      13580 non-null  float64\n",
            " 18  Longtitude     13580 non-null  float64\n",
            " 19  Regionname     13580 non-null  object \n",
            " 20  Propertycount  13580 non-null  float64\n",
            "dtypes: float64(12), int64(1), object(8)\n",
            "memory usage: 2.2+ MB\n",
            "None\n",
            "\n",
            "Jumlah Baris & Kolom :\n",
            "(13580, 21)\n",
            "\n",
            "Deskripsi Data : \n",
            "              Rooms         Price      Distance      Postcode      Bedroom2  \\\n",
            "count  13580.000000  1.358000e+04  13580.000000  13580.000000  13580.000000   \n",
            "mean       2.937997  1.075684e+06     10.137776   3105.301915      2.914728   \n",
            "std        0.955748  6.393107e+05      5.868725     90.676964      0.965921   \n",
            "min        1.000000  8.500000e+04      0.000000   3000.000000      0.000000   \n",
            "25%        2.000000  6.500000e+05      6.100000   3044.000000      2.000000   \n",
            "50%        3.000000  9.030000e+05      9.200000   3084.000000      3.000000   \n",
            "75%        3.000000  1.330000e+06     13.000000   3148.000000      3.000000   \n",
            "max       10.000000  9.000000e+06     48.100000   3977.000000     20.000000   \n",
            "\n",
            "           Bathroom           Car       Landsize  BuildingArea    YearBuilt  \\\n",
            "count  13580.000000  13518.000000   13580.000000   7130.000000  8205.000000   \n",
            "mean       1.534242      1.610075     558.416127    151.967650  1964.684217   \n",
            "std        0.691712      0.962634    3990.669241    541.014538    37.273762   \n",
            "min        0.000000      0.000000       0.000000      0.000000  1196.000000   \n",
            "25%        1.000000      1.000000     177.000000     93.000000  1940.000000   \n",
            "50%        1.000000      2.000000     440.000000    126.000000  1970.000000   \n",
            "75%        2.000000      2.000000     651.000000    174.000000  1999.000000   \n",
            "max        8.000000     10.000000  433014.000000  44515.000000  2018.000000   \n",
            "\n",
            "          Lattitude    Longtitude  Propertycount  \n",
            "count  13580.000000  13580.000000   13580.000000  \n",
            "mean     -37.809203    144.995216    7454.417378  \n",
            "std        0.079260      0.103916    4378.581772  \n",
            "min      -38.182550    144.431810     249.000000  \n",
            "25%      -37.856822    144.929600    4380.000000  \n",
            "50%      -37.802355    145.000100    6555.000000  \n",
            "75%      -37.756400    145.058305   10331.000000  \n",
            "max      -37.408530    145.526350   21650.000000  \n",
            "\n",
            "Tipe Data : \n",
            "Suburb            object\n",
            "Address           object\n",
            "Rooms              int64\n",
            "Type              object\n",
            "Price            float64\n",
            "Method            object\n",
            "SellerG           object\n",
            "Date              object\n",
            "Distance         float64\n",
            "Postcode         float64\n",
            "Bedroom2         float64\n",
            "Bathroom         float64\n",
            "Car              float64\n",
            "Landsize         float64\n",
            "BuildingArea     float64\n",
            "YearBuilt        float64\n",
            "CouncilArea       object\n",
            "Lattitude        float64\n",
            "Longtitude       float64\n",
            "Regionname        object\n",
            "Propertycount    float64\n",
            "dtype: object\n",
            "\n",
            "Missing Value : \n",
            "Suburb              0\n",
            "Address             0\n",
            "Rooms               0\n",
            "Type                0\n",
            "Price               0\n",
            "Method              0\n",
            "SellerG             0\n",
            "Date                0\n",
            "Distance            0\n",
            "Postcode            0\n",
            "Bedroom2            0\n",
            "Bathroom            0\n",
            "Car                62\n",
            "Landsize            0\n",
            "BuildingArea     6450\n",
            "YearBuilt        5375\n",
            "CouncilArea      1369\n",
            "Lattitude           0\n",
            "Longtitude          0\n",
            "Regionname          0\n",
            "Propertycount       0\n",
            "dtype: int64\n"
          ]
        }
      ]
    },
    {
      "cell_type": "markdown",
      "source": [
        "Hasil :\n",
        "1. Untuk jumlah data, saya memiliki 5 baris x 12 kolom\n",
        "2. Type data yang dimiliki yaitu : float64(12), int64(1), object(8)\n",
        "3. Adapun missing value ditemukan pada kolom : Car, BuildingArea, YearBuilt, dan CouncilArea.\n",
        "\n",
        "Dari data yang tertera diatas, karena adanya missing values pada data maka akan di lakukan permberihan pada data."
      ],
      "metadata": {
        "id": "NdlqCDYdsL_Y"
      }
    },
    {
      "cell_type": "markdown",
      "source": [
        "## Persiapan Data Yang Akan Digunakan"
      ],
      "metadata": {
        "id": "yxsoalIo1ihT"
      }
    },
    {
      "cell_type": "code",
      "source": [
        "df.drop_duplicates(inplace=True)"
      ],
      "metadata": {
        "id": "jCCW9b1vFNI6"
      },
      "execution_count": 21,
      "outputs": []
    },
    {
      "cell_type": "markdown",
      "source": [
        "Mengapus data duplikat"
      ],
      "metadata": {
        "id": "AmK4oy7ItFFT"
      }
    },
    {
      "cell_type": "code",
      "source": [
        "df.dropna(subset=['CouncilArea'], inplace=True)"
      ],
      "metadata": {
        "id": "bBlJolGIvJ0L"
      },
      "execution_count": 22,
      "outputs": []
    },
    {
      "cell_type": "markdown",
      "source": [
        "Menghapus kolom CoouncilArea"
      ],
      "metadata": {
        "id": "ykunyCSGvQkO"
      }
    },
    {
      "cell_type": "code",
      "source": [
        "df = df[df['BuildingArea'].notnull() & df['Car'].notnull()]"
      ],
      "metadata": {
        "id": "NqlrdPc2FymU"
      },
      "execution_count": 23,
      "outputs": []
    },
    {
      "cell_type": "markdown",
      "source": [
        "Menghapus baris missing value pada kolom Building dan Car"
      ],
      "metadata": {
        "id": "evliTXzVtcNN"
      }
    },
    {
      "cell_type": "code",
      "source": [
        "median_year = df['YearBuilt'].median()\n",
        "df.loc[:,'YearBuilt'] = df['YearBuilt'].fillna(median_year)"
      ],
      "metadata": {
        "id": "3MAOU_WXGdb5"
      },
      "execution_count": 24,
      "outputs": []
    },
    {
      "cell_type": "markdown",
      "source": [
        "Mengisi nilai kosng dengan median pada kolom YearBuilt"
      ],
      "metadata": {
        "id": "Re9Q9BtJtkF0"
      }
    },
    {
      "cell_type": "code",
      "source": [
        "print(\"\\nMissing Value : \")\n",
        "print(df.isnull().sum())"
      ],
      "metadata": {
        "colab": {
          "base_uri": "https://localhost:8080/"
        },
        "id": "NitIHLept2tS",
        "outputId": "e7482fb4-bf40-457b-b92d-29c1ad04dc4f"
      },
      "execution_count": 25,
      "outputs": [
        {
          "output_type": "stream",
          "name": "stdout",
          "text": [
            "\n",
            "Missing Value : \n",
            "Suburb           0\n",
            "Address          0\n",
            "Rooms            0\n",
            "Type             0\n",
            "Price            0\n",
            "Method           0\n",
            "SellerG          0\n",
            "Date             0\n",
            "Distance         0\n",
            "Postcode         0\n",
            "Bedroom2         0\n",
            "Bathroom         0\n",
            "Car              0\n",
            "Landsize         0\n",
            "BuildingArea     0\n",
            "YearBuilt        0\n",
            "CouncilArea      0\n",
            "Lattitude        0\n",
            "Longtitude       0\n",
            "Regionname       0\n",
            "Propertycount    0\n",
            "dtype: int64\n"
          ]
        }
      ]
    },
    {
      "cell_type": "markdown",
      "source": [
        "berdasarkan mengecekan hasil preprocessing data sudah tidak terdapat missing value pada data"
      ],
      "metadata": {
        "id": "KWk3PAdFvYcE"
      }
    },
    {
      "cell_type": "markdown",
      "source": [
        "# Analisis Korelasi\n"
      ],
      "metadata": {
        "id": "fS244gQdJh8n"
      }
    },
    {
      "cell_type": "code",
      "source": [
        "numerical_kolom = ['Price', 'Rooms', 'Bedroom2', 'Bathroom', 'Car', 'Landsize', 'BuildingArea', 'YearBuilt']\n",
        "correlation_matrix = df[numerical_kolom].corr()\n",
        "print(correlation_matrix)"
      ],
      "metadata": {
        "colab": {
          "base_uri": "https://localhost:8080/"
        },
        "id": "pICLaqpIHIog",
        "outputId": "f2cac006-689e-44bd-d608-22c2985bde4f"
      },
      "execution_count": 26,
      "outputs": [
        {
          "output_type": "stream",
          "name": "stdout",
          "text": [
            "                 Price     Rooms  Bedroom2  Bathroom       Car  Landsize  \\\n",
            "Price         1.000000  0.530395  0.511461  0.501789  0.261934  0.083892   \n",
            "Rooms         0.530395  1.000000  0.951871  0.610124  0.424309  0.101460   \n",
            "Bedroom2      0.511461  0.951871  1.000000  0.614205  0.427212  0.099906   \n",
            "Bathroom      0.501789  0.610124  0.614205  1.000000  0.336696  0.076744   \n",
            "Car           0.261934  0.424309  0.427212  0.336696  1.000000  0.118429   \n",
            "Landsize      0.083892  0.101460  0.099906  0.076744  0.118429  1.000000   \n",
            "BuildingArea  0.363616  0.416691  0.407735  0.365909  0.228272  0.071991   \n",
            "YearBuilt    -0.297371 -0.066343 -0.054845  0.154640  0.107193  0.025843   \n",
            "\n",
            "              BuildingArea  YearBuilt  \n",
            "Price             0.363616  -0.297371  \n",
            "Rooms             0.416691  -0.066343  \n",
            "Bedroom2          0.407735  -0.054845  \n",
            "Bathroom          0.365909   0.154640  \n",
            "Car               0.228272   0.107193  \n",
            "Landsize          0.071991   0.025843  \n",
            "BuildingArea      1.000000   0.006951  \n",
            "YearBuilt         0.006951   1.000000  \n"
          ]
        }
      ]
    },
    {
      "cell_type": "markdown",
      "source": [
        "Seleksi dan menghitung kolom numerik yang akan digunakan"
      ],
      "metadata": {
        "id": "BtUYTJtRvgDu"
      }
    },
    {
      "cell_type": "code",
      "source": [
        "plt.figure(figsize=(10, 8))\n",
        "sns.heatmap(correlation_matrix, annot=True, cmap='coolwarm', fmt=\".2f\")\n",
        "plt.title(\"Korelasi Antar Kolom Numerik\")\n",
        "plt.show()"
      ],
      "metadata": {
        "colab": {
          "base_uri": "https://localhost:8080/",
          "height": 699
        },
        "id": "ZBXCjeHFJ0c4",
        "outputId": "0a106f76-90c2-44fb-8ce9-7c526c18f993"
      },
      "execution_count": 27,
      "outputs": [
        {
          "output_type": "display_data",
          "data": {
            "text/plain": [
              "<Figure size 1000x800 with 2 Axes>"
            ],
            "image/png": "[encoded data removed]"
          },
          "metadata": {}
        }
      ]
    },
    {
      "cell_type": "markdown",
      "source": [
        "Melakukan visualisasi data dengan heatmap"
      ],
      "metadata": {
        "id": "8zl10A2vvooN"
      }
    },
    {
      "cell_type": "code",
      "source": [
        "group_large = df[df['BuildingArea'] > 150]['Price']\n",
        "group_small = df[df['BuildingArea'] <= 150]['Price']\n",
        "\n",
        "t_stat, p_value = ttest_ind(group_large, group_small)\n",
        "\n",
        "print(\"Nilai t-statistik:\", t_stat)\n",
        "print(\"Nilai p-value:\", p_value)\n",
        "\n",
        "mean_large = group_large.mean()\n",
        "mean_small = group_small.mean()\n",
        "\n",
        "print(\"Rata-rata Harga di BuildingArea > 150:\", mean_large)\n",
        "print(\"Rata-rata Harga di BuildingArea <= 150:\", mean_small)"
      ],
      "metadata": {
        "colab": {
          "base_uri": "https://localhost:8080/"
        },
        "id": "cygc7iiJKDSp",
        "outputId": "87e9423c-0eea-40f7-c8e9-ec46a0ec5418"
      },
      "execution_count": 28,
      "outputs": [
        {
          "output_type": "stream",
          "name": "stdout",
          "text": [
            "Nilai t-statistik: 45.8832647853393\n",
            "Nilai p-value: 0.0\n",
            "Rata-rata Harga di BuildingArea > 150: 1545478.6151698465\n",
            "Rata-rata Harga di BuildingArea <= 150: 832991.9003956248\n"
          ]
        }
      ]
    },
    {
      "cell_type": "markdown",
      "source": [
        "test Hipotesis dan rata-rata untuk Building Area dan mendapatkan hasil sesuai dengan yang tertera diatas"
      ],
      "metadata": {
        "id": "g2cirQE-vudi"
      }
    },
    {
      "cell_type": "code",
      "source": [
        "# test Hipotesis dan rata-rata untuk Car\n",
        "\n",
        "g_car1= df[df['Car'] > 1]['Price']\n",
        "g_car2= df[df['Car'] <= 1]['Price']\n",
        "\n",
        "t_stat, p_value = ttest_ind(g_car1, g_car2)\n",
        "\n",
        "print(\"Nilai t-statistik:\", t_stat)\n",
        "print(\"Nilai p-value:\", p_value)\n",
        "\n",
        "mean_car1 = g_car1.mean()\n",
        "mean_car2 = g_car2.mean()\n",
        "\n",
        "print(\"Rata-rata Harga di Car > 1:\", mean_car1)\n",
        "print(\"Rata-rata Harga di Car <= 1:\", mean_car2)"
      ],
      "metadata": {
        "colab": {
          "base_uri": "https://localhost:8080/"
        },
        "id": "ZreoY7RdOrMt",
        "outputId": "b5fe1eb5-a571-45b8-be4c-2c040c2cd5ae"
      },
      "execution_count": 29,
      "outputs": [
        {
          "output_type": "stream",
          "name": "stdout",
          "text": [
            "Nilai t-statistik: 25.9829014907249\n",
            "Nilai p-value: 1.2345447536317175e-141\n",
            "Rata-rata Harga di Car > 1: 1281694.2951901918\n",
            "Rata-rata Harga di Car <= 1: 864787.193568147\n"
          ]
        }
      ]
    },
    {
      "cell_type": "markdown",
      "source": [
        "test Hipotesis dan rata-rata untuk kolom Car dan mendapatkan hasil sesuai dengan yang tertera diatas"
      ],
      "metadata": {
        "id": "OnRev47Tv2uw"
      }
    },
    {
      "cell_type": "code",
      "source": [
        "# test Hipotesis dan rata-rata untuk Bathroom\n",
        "\n",
        "g_Bathroom1 = df[df['Bathroom'] > 2]['Price']\n",
        "g_Bathroom2 = df[df['Bathroom'] <= 2]['Price']\n",
        "\n",
        "t_stat, p_value = ttest_ind(g_Bathroom1, g_Bathroom2)\n",
        "\n",
        "print(\"Nilai t-statistik:\", t_stat)\n",
        "print(\"Nilai p-value:\", p_value)\n",
        "\n",
        "mean_Bathroom1 = g_Bathroom1.mean()\n",
        "mean_Bathroom2 = g_Bathroom2.mean()\n",
        "\n",
        "print(\"Rata-rata Harga di Bathroom > 2:\", mean_Bathroom1)\n",
        "print(\"Rata-rata Harga di Bathroom <= 2:\", mean_Bathroom2)"
      ],
      "metadata": {
        "colab": {
          "base_uri": "https://localhost:8080/"
        },
        "id": "XH6wXY71PbGb",
        "outputId": "678d2060-b5ab-4950-c4a6-18d1985de989"
      },
      "execution_count": 30,
      "outputs": [
        {
          "output_type": "stream",
          "name": "stdout",
          "text": [
            "Nilai t-statistik: 35.46112603573434\n",
            "Nilai p-value: 8.821257636084568e-252\n",
            "Rata-rata Harga di Bathroom > 2: 1937045.6232876712\n",
            "Rata-rata Harga di Bathroom <= 2: 984197.3892869328\n"
          ]
        }
      ]
    },
    {
      "cell_type": "markdown",
      "source": [
        "test Hipotesis dan rata-rata untuk kolom Bathroom dan mendapatkan hasil sesuai dengan yang tertera diatas"
      ],
      "metadata": {
        "id": "YhdhYSvBv6wS"
      }
    },
    {
      "cell_type": "code",
      "source": [
        "# test Hipotesis dan rata-rata untuk Landsize\n",
        "\n",
        "g_Landsize = df[df['Landsize'] > 1000]['Price']\n",
        "g_Landsize2 = df[df['Landsize'] <= 1000]['Price']\n",
        "\n",
        "t_stat, p_value = ttest_ind(g_Landsize, g_Landsize2)\n",
        "\n",
        "print(\"Nilai t-statistik:\", t_stat)\n",
        "print(\"Nilai p-value:\", p_value)\n",
        "\n",
        "mean_Landsize = g_Landsize.mean()\n",
        "mean_Landsize2 = g_Landsize2.mean()\n",
        "\n",
        "print(\"Rata-rata Harga di Landsize > 1000:\", mean_Landsize)\n",
        "print(\"Rata-rata Harga di Landsize <= 1000:\", mean_Landsize2)"
      ],
      "metadata": {
        "colab": {
          "base_uri": "https://localhost:8080/"
        },
        "id": "vAz1kaZSRygT",
        "outputId": "8ac3ad9d-f196-408b-e868-7ef173eee77e"
      },
      "execution_count": 31,
      "outputs": [
        {
          "output_type": "stream",
          "name": "stdout",
          "text": [
            "Nilai t-statistik: 3.7466085911428877\n",
            "Nilai p-value: 0.0001808070691388462\n",
            "Rata-rata Harga di Landsize > 1000: 1218885.6021505375\n",
            "Rata-rata Harga di Landsize <= 1000: 1063812.3329009244\n"
          ]
        }
      ]
    },
    {
      "cell_type": "markdown",
      "source": [
        "test Hipotesis dan rata-rata untuk Landsize dan mendapatkan hasil sesuai dengan yang tertera diatas"
      ],
      "metadata": {
        "id": "v1ZloVdSv-KO"
      }
    },
    {
      "cell_type": "markdown",
      "source": [
        "# Permodelan"
      ],
      "metadata": {
        "id": "v55b-2qFRlv-"
      }
    },
    {
      "cell_type": "code",
      "source": [
        "X = df[['Rooms', 'Bedroom2', 'Bathroom', 'Car', 'Landsize', 'BuildingArea', 'YearBuilt']]\n",
        "y = df['Price']\n",
        "\n",
        "X_train, X_test, y_train, y_test = train_test_split(X, y, test_size=0.2, random_state=42)\n",
        "\n",
        "LR_model = LinearRegression()\n",
        "LR_model.fit(X_train, y_train)\n",
        "y_pred_LR = LR_model.predict(X_test)\n",
        "\n",
        "DT_model = DecisionTreeRegressor()\n",
        "DT_model.fit(X_train, y_train)\n",
        "y_pred_DT = DT_model.predict(X_test)\n",
        "\n",
        "rmse = np.sqrt(mean_squared_error(y_test, y_pred_LR))\n",
        "r2 = r2_score(y_test, y_pred_LR)\n",
        "\n",
        "print(\"Linear Regression - RMSE:\", rmse)\n",
        "print(\"Linear Regression - R2 Score:\", r2)\n",
        "\n",
        "rmse = np.sqrt(mean_squared_error(y_test, y_pred_DT))\n",
        "r2 = r2_score(y_test, y_pred_DT)\n",
        "\n",
        "print(\"Decision Tree - RMSE:\", rmse)\n",
        "print(\"Decision Tree - R2 Score:\", r2)"
      ],
      "metadata": {
        "colab": {
          "base_uri": "https://localhost:8080/"
        },
        "id": "NnXsp9RdPl_D",
        "outputId": "bd31af7e-d4a5-47fa-cd3b-ffa8b2a34bab"
      },
      "execution_count": 32,
      "outputs": [
        {
          "output_type": "stream",
          "name": "stdout",
          "text": [
            "Linear Regression - RMSE: 550781.2410914198\n",
            "Linear Regression - R2 Score: 0.42985999399735697\n",
            "Decision Tree - RMSE: 625150.490475077\n",
            "Decision Tree - R2 Score: 0.26549900605014154\n"
          ]
        }
      ]
    },
    {
      "cell_type": "markdown",
      "source": [
        "- Memisahkan data menjadi data latih dan data uji\n",
        "- Membangun model linear sederhana untuk prediksi harga\n",
        "- Membanguna model Decision Tree untuk menangkap hubungan non linear\n",
        "- Dan mengukur performa masing-masing model"
      ],
      "metadata": {
        "id": "9LFclkYywDUL"
      }
    },
    {
      "cell_type": "markdown",
      "source": [
        "# Tahap Lanjutan"
      ],
      "metadata": {
        "id": "zHvditwTbT54"
      }
    },
    {
      "cell_type": "code",
      "source": [
        "X = df[['Rooms', 'Bedroom2', 'Bathroom', 'Car', 'Landsize', 'BuildingArea', 'YearBuilt']]\n",
        "y = df['Price']\n",
        "\n",
        "X_train, X_test, y_train, y_test = train_test_split(X, y, test_size=0.2, random_state=42)\n",
        "\n",
        "RF_model = RandomForestRegressor(n_estimators=100, max_depth=10, random_state=42)\n",
        "RF_model.fit(X_train, y_train)\n",
        "\n",
        "y_pred_RF = RF_model.predict(X_test)\n",
        "\n",
        "rmse = np.sqrt(mean_squared_error(y_test, y_pred_RF))\n",
        "r2 = r2_score(y_test, y_pred_RF)\n",
        "\n",
        "print(\"Random Forest - RMSE:\", rmse)\n",
        "print(\"Random Forest - R2 Score:\", r2)\n",
        "\n",
        "importance = RF_model.feature_importances_\n",
        "feature_names = X.columns\n",
        "\n",
        "plt.figure(figsize=(10, 6))\n",
        "sns.barplot(x=importance, y=feature_names)\n",
        "plt.title(\"Feature Importance\")\n",
        "plt.xlabel(\"Importance\")\n",
        "plt.ylabel(\"Features\")\n"
      ],
      "metadata": {
        "colab": {
          "base_uri": "https://localhost:8080/",
          "height": 616
        },
        "id": "RVeI2WkvVHfr",
        "outputId": "284e2355-8d21-4161-ec28-63755d9c7f42"
      },
      "execution_count": 33,
      "outputs": [
        {
          "output_type": "stream",
          "name": "stdout",
          "text": [
            "Random Forest - RMSE: 490011.35672286485\n",
            "Random Forest - R2 Score: 0.5487309731763566\n"
          ]
        },
        {
          "output_type": "execute_result",
          "data": {
            "text/plain": [
              "Text(0, 0.5, 'Features')"
            ]
          },
          "metadata": {},
          "execution_count": 33
        },
        {
          "output_type": "display_data",
          "data": {
            "text/plain": [
              "<Figure size 1000x600 with 1 Axes>"
            ],
            "image/png": "[encoded data removed]"
          },
          "metadata": {}
        }
      ]
    },
    {
      "cell_type": "markdown",
      "source": [
        "- Membangun model ensemble agar lebih akurat dan stabil\n",
        "- Megetahui fitur yang paling berpengaruh terhadap prediksi harga"
      ],
      "metadata": {
        "id": "PrNEkiDowNyu"
      }
    }
  ]
}